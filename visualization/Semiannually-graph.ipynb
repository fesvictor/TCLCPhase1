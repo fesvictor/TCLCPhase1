{
 "cells": [
  {
   "cell_type": "code",
   "execution_count": null,
   "metadata": {
    "collapsed": true
   },
   "outputs": [],
   "source": [
    "import os\n",
    "import glob\n",
    "\n",
    "import pandas as pd\n",
    "import numpy as np\n",
    "\n",
    "import ReadParameterFile"
   ]
  },
  {
   "cell_type": "code",
   "execution_count": null,
   "metadata": {
    "collapsed": true
   },
   "outputs": [],
   "source": [
    "params = ReadParameterFile.get_parameter_dict(\"semiannually-params\")"
   ]
  },
  {
   "cell_type": "code",
   "execution_count": null,
   "metadata": {},
   "outputs": [],
   "source": [
    "params"
   ]
  },
  {
   "cell_type": "code",
   "execution_count": null,
   "metadata": {},
   "outputs": [],
   "source": [
    "# Extracted from : https://stackoverflow.com/a/2186555\n",
    "def list_all_files(root_path, ext=\".csv\", front=\"20\"):\n",
    "    cfiles = []\n",
    "    for root, dirs, files in os.walk(root_path):\n",
    "        for file in files:\n",
    "            if file.startswith(front) and file.endswith(ext):\n",
    "                cfiles.append(os.path.join(root, file))\n",
    "    return cfiles"
   ]
  },
  {
   "cell_type": "code",
   "execution_count": null,
   "metadata": {},
   "outputs": [],
   "source": [
    "def split_files_by_keyword(files, keyword):\n",
    "    groups = {}\n",
    "    for kw in keyword:\n",
    "        groups[kw] = [f for f in files if kw in f]\n",
    "    return groups\n",
    "            "
   ]
  },
  {
   "cell_type": "code",
   "execution_count": null,
   "metadata": {
    "collapsed": true
   },
   "outputs": [],
   "source": [
    "def filter_files_by_time_range(files, start_year=2017, end_year=2017, start_month=7, end_month=12):\n",
    "    # transform args to int as keepsafe\n",
    "    start_year = int(start_year)\n",
    "    end_year = int(end_year)\n",
    "    start_month = int(start_month)\n",
    "    end_month = int(end_month)\n",
    "    \n",
    "    dates = []\n",
    "    if start_year == end_year:\n",
    "        dates = [str(start_year) + \"_{:02d}\".format(n) for n in range(start_month, end_month + 1)]\n",
    "    return split_files_by_keyword(files, dates)"
   ]
  },
  {
   "cell_type": "code",
   "execution_count": null,
   "metadata": {
    "collapsed": true
   },
   "outputs": [],
   "source": [
    "def flatten_dict(d):\n",
    "    ret = []\n",
    "    for k in d:\n",
    "        ret = ret + d[k]\n",
    "    return ret"
   ]
  },
  {
   "cell_type": "code",
   "execution_count": null,
   "metadata": {},
   "outputs": [],
   "source": [
    "\"\"\"\n",
    "files : array of files\n",
    "\n",
    "overall is default behavior\n",
    "\"\"\"\n",
    "def aggregate_tables(files, positive=False, negative=False):\n",
    "    ret_dict = {}\n",
    "    for f in files:\n",
    "        df = pd.read_csv(f, sep=',')\n",
    "        # Add all names into dict\n",
    "        for n in set(df['name'].tolist()):\n",
    "            # Do overall \n",
    "            if n in ret_dict:\n",
    "                ret_dict[n]['overall'] += df.loc[df['name']==n].as_matrix()[0][2:] + df.loc[df['name']==n].as_matrix()[1][2:]\n",
    "            if n not in ret_dict:\n",
    "                ret_dict[n] = {'overall': df.loc[df['name']==n].as_matrix()[0][2:] + df.loc[df['name']==n].as_matrix()[1][2:]}\n",
    "            if positive:\n",
    "                if \"positive\" in ret_dict[n]:\n",
    "                    ret_dict[n]['positive'] += df.loc[(df['name']==n) & (df['scale']==1)].as_matrix()[0][2:]\n",
    "                else:\n",
    "                    ret_dict[n]['positive'] = df.loc[(df['name']==n) & (df['scale']==1)].as_matrix()[0][2:]\n",
    "\n",
    "            if negative:\n",
    "                if \"negative\" in ret_dict[n]:\n",
    "                    ret_dict[n]['negative'] += df.loc[(df['name']==n) & (df['scale']==2)].as_matrix()[0][2:]\n",
    "                else:\n",
    "                    ret_dict[n]['negative'] = df.loc[(df['name']==n) & (df['scale']==2)].as_matrix()[0][2:]\n",
    "\n",
    "    return ret_dict\n",
    "                "
   ]
  },
  {
   "cell_type": "code",
   "execution_count": null,
   "metadata": {
    "collapsed": true
   },
   "outputs": [],
   "source": [
    "\"\"\"\n",
    "arr : np.array\n",
    "\n",
    "returns an array of 5 values --> 5 weeks\n",
    "\"\"\"\n",
    "def summarize_values_to_week(arr):\n",
    "    return [arr[0:7].sum(), arr[7:14].sum(), arr[14:21].sum(), arr[21:28].sum(), arr[28:31].sum()]"
   ]
  },
  {
   "cell_type": "code",
   "execution_count": null,
   "metadata": {
    "collapsed": true
   },
   "outputs": [],
   "source": [
    "files = list_all_files(params['input_dir'])\n",
    "languages = params['languages']"
   ]
  },
  {
   "cell_type": "code",
   "execution_count": null,
   "metadata": {},
   "outputs": [],
   "source": [
    "g = split_files_by_keyword(files, languages)"
   ]
  },
  {
   "cell_type": "code",
   "execution_count": null,
   "metadata": {},
   "outputs": [],
   "source": [
    "g"
   ]
  },
  {
   "cell_type": "code",
   "execution_count": null,
   "metadata": {},
   "outputs": [],
   "source": [
    "d = split_files_by_keyword(g['chinese'], ['leader'])\n",
    "d = filter_files_by_time_range(d['leader'])\n",
    "d"
   ]
  },
  {
   "cell_type": "code",
   "execution_count": null,
   "metadata": {},
   "outputs": [],
   "source": [
    "tables = [aggregate_tables(d[k], positive=True) for k in d]\n",
    "len(tables)"
   ]
  },
  {
   "cell_type": "code",
   "execution_count": null,
   "metadata": {},
   "outputs": [],
   "source": [
    "for _t in tables:\n",
    "    for k in _t:\n",
    "        _t[k]['overall'] = summarize_values_to_week(_t[k]['overall'])\n",
    "        \n",
    "        if \"positive\" in _t[k]:\n",
    "            _t[k]['positive'] = summarize_values_to_week(_t[k]['positive'])\n",
    "        if \"negative\" in _t[k]:\n",
    "            _t[k]['negative'] = summarize_values_to_week(_t[k]['negative'])\n",
    "tables"
   ]
  },
  {
   "cell_type": "code",
   "execution_count": null,
   "metadata": {},
   "outputs": [],
   "source": [
    "for i in tables:\n",
    "    print(i['卡巴星'])"
   ]
  },
  {
   "cell_type": "code",
   "execution_count": null,
   "metadata": {},
   "outputs": [],
   "source": []
  }
 ],
 "metadata": {
  "kernelspec": {
   "display_name": "Python 3",
   "language": "python",
   "name": "python3"
  },
  "language_info": {
   "codemirror_mode": {
    "name": "ipython",
    "version": 3
   },
   "file_extension": ".py",
   "mimetype": "text/x-python",
   "name": "python",
   "nbconvert_exporter": "python",
   "pygments_lexer": "ipython3",
   "version": "3.6.4"
  }
 },
 "nbformat": 4,
 "nbformat_minor": 2
}
