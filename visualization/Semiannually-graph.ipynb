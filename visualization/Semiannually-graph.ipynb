{
 "cells": [
  {
   "cell_type": "code",
   "execution_count": 127,
   "metadata": {
    "collapsed": true
   },
   "outputs": [],
   "source": [
    "import os\n",
    "import glob\n",
    "from functools import reduce\n",
    "\n",
    "import pandas as pd\n",
    "import numpy as np\n",
    "\n",
    "import ReadParameterFile"
   ]
  },
  {
   "cell_type": "code",
   "execution_count": 2,
   "metadata": {
    "collapsed": true
   },
   "outputs": [],
   "source": [
    "params = ReadParameterFile.get_parameter_dict(\"semiannually-params\")"
   ]
  },
  {
   "cell_type": "code",
   "execution_count": 3,
   "metadata": {},
   "outputs": [
    {
     "data": {
      "text/plain": [
       "{'end_month': '12',\n",
       " 'end_year': '2017',\n",
       " 'graph_types': ['positive', 'negative', 'overall'],\n",
       " 'input_dir': '../temp',\n",
       " 'languages': ['english', 'chinese', 'mix'],\n",
       " 'leader_different': ['lim kit siang',\n",
       "  'lim guan eng',\n",
       "  'anwar',\n",
       "  'mahathir',\n",
       "  'abdul haji awang',\n",
       "  'liow tiong lai',\n",
       "  'subramaniam',\n",
       "  'najib razak'],\n",
       " 'leader_same_bn': ['liow tiong lai',\n",
       "  'subramaniam',\n",
       "  'najib razak',\n",
       "  'mah siew keong'],\n",
       " 'leader_same_pakatan': ['lim kit siang',\n",
       "  'lim guan eng',\n",
       "  'anwar',\n",
       "  'mahathir',\n",
       "  'abdul hadi awang'],\n",
       " 'output_dir': '../results',\n",
       " 'party_different': ['dap', 'pkr', 'ppbm', 'pas', 'mca', 'umno', 'mic'],\n",
       " 'party_same_bn': ['mca', 'mic', 'umno', 'pbb', 'gerakan'],\n",
       " 'party_same_pakatan': ['dap', 'pkr', 'pas', 'ppbm', 'amanah'],\n",
       " 'start_month': '7',\n",
       " 'start_year': '2017'}"
      ]
     },
     "execution_count": 3,
     "metadata": {},
     "output_type": "execute_result"
    }
   ],
   "source": [
    "params"
   ]
  },
  {
   "cell_type": "code",
   "execution_count": 4,
   "metadata": {},
   "outputs": [],
   "source": [
    "# Extracted from : https://stackoverflow.com/a/2186555\n",
    "def list_all_files(root_path, ext=\".csv\", front=\"20\"):\n",
    "    cfiles = []\n",
    "    for root, dirs, files in os.walk(root_path):\n",
    "        for file in files:\n",
    "            if file.startswith(front) and file.endswith(ext):\n",
    "                cfiles.append(os.path.join(root, file))\n",
    "    return cfiles"
   ]
  },
  {
   "cell_type": "code",
   "execution_count": 5,
   "metadata": {},
   "outputs": [],
   "source": [
    "def split_files_by_keyword(files, keyword):\n",
    "    groups = {}\n",
    "    for kw in keyword:\n",
    "        groups[kw] = [f for f in files if kw in f]\n",
    "    return groups\n",
    "            "
   ]
  },
  {
   "cell_type": "code",
   "execution_count": 6,
   "metadata": {
    "collapsed": true
   },
   "outputs": [],
   "source": [
    "def filter_files_by_time_range(files, start_year=2017, end_year=2017, start_month=7, end_month=12):\n",
    "    # transform args to int as keepsafe\n",
    "    start_year = int(start_year)\n",
    "    end_year = int(end_year)\n",
    "    start_month = int(start_month)\n",
    "    end_month = int(end_month)\n",
    "    \n",
    "    dates = []\n",
    "    if start_year == end_year:\n",
    "        dates = [str(start_year) + \"_{:02d}\".format(n) for n in range(start_month, end_month + 1)]\n",
    "    return split_files_by_keyword(files, dates)"
   ]
  },
  {
   "cell_type": "code",
   "execution_count": 7,
   "metadata": {
    "collapsed": true
   },
   "outputs": [],
   "source": [
    "def flatten_dict(d):\n",
    "    ret = []\n",
    "    for k in d:\n",
    "        ret = ret + d[k]\n",
    "    return ret"
   ]
  },
  {
   "cell_type": "code",
   "execution_count": 8,
   "metadata": {},
   "outputs": [],
   "source": [
    "\"\"\"\n",
    "files : array of files\n",
    "\n",
    "overall is default behavior\n",
    "\"\"\"\n",
    "def aggregate_tables(files, positive=False, negative=False):\n",
    "    ret_dict = {}\n",
    "    for f in files:\n",
    "        df = pd.read_csv(f, sep=',')\n",
    "        # Add all names into dict\n",
    "        for n in set(df['name'].tolist()):\n",
    "            # Do overall \n",
    "            if n in ret_dict:\n",
    "                ret_dict[n]['overall'] += df.loc[df['name']==n].as_matrix()[0][2:] + df.loc[df['name']==n].as_matrix()[1][2:]\n",
    "            if n not in ret_dict:\n",
    "                ret_dict[n] = {'overall': df.loc[df['name']==n].as_matrix()[0][2:] + df.loc[df['name']==n].as_matrix()[1][2:]}\n",
    "            if positive:\n",
    "                if \"positive\" in ret_dict[n]:\n",
    "                    ret_dict[n]['positive'] += df.loc[(df['name']==n) & (df['scale']==1)].as_matrix()[0][2:]\n",
    "                else:\n",
    "                    ret_dict[n]['positive'] = df.loc[(df['name']==n) & (df['scale']==1)].as_matrix()[0][2:]\n",
    "\n",
    "            if negative:\n",
    "                if \"negative\" in ret_dict[n]:\n",
    "                    ret_dict[n]['negative'] += df.loc[(df['name']==n) & (df['scale']==2)].as_matrix()[0][2:]\n",
    "                else:\n",
    "                    ret_dict[n]['negative'] = df.loc[(df['name']==n) & (df['scale']==2)].as_matrix()[0][2:]\n",
    "\n",
    "    return ret_dict\n",
    "                "
   ]
  },
  {
   "cell_type": "code",
   "execution_count": 9,
   "metadata": {
    "collapsed": true
   },
   "outputs": [],
   "source": [
    "\"\"\"\n",
    "arr : np.array\n",
    "\n",
    "returns an array of 5 values --> 5 weeks\n",
    "\"\"\"\n",
    "def summarize_values_to_week(arr):\n",
    "    return [arr[0:7].sum(), arr[7:14].sum(), arr[14:21].sum(), arr[21:28].sum(), arr[28:31].sum()]"
   ]
  },
  {
   "cell_type": "code",
   "execution_count": 66,
   "metadata": {
    "collapsed": true
   },
   "outputs": [],
   "source": [
    "\"\"\"\n",
    "marr : array of dicts\n",
    "\n",
    "\"\"\"\n",
    "def flatten_map(marr):\n",
    "    ret_dict = []\n",
    "    for key in marr[0]:\n",
    "        new_dict = {key: []}\n",
    "        for d in marr:\n",
    "            new_dict[key] += [d[key]]\n",
    "        ret_dict += [new_dict]\n",
    "    return ret_dict"
   ]
  },
  {
   "cell_type": "code",
   "execution_count": 99,
   "metadata": {},
   "outputs": [],
   "source": [
    "def flatten_inner_array(x):\n",
    "    for i, n in enumerate(x):\n",
    "        x[i][list(n.keys())[0]] = flatten_map(x[i][list(n.keys())[0]])\n",
    "        for j, n2 in enumerate(x[i][list(n.keys())[0]]):\n",
    "            x[i][list(n.keys())[0]][j][list(n2.keys())[0]] = np.concatenate(n2[list(n2.keys())[0]]).ravel().tolist()\n",
    "    return x"
   ]
  },
  {
   "cell_type": "code",
   "execution_count": 157,
   "metadata": {
    "collapsed": true
   },
   "outputs": [],
   "source": [
    "def flatten_array_to_map(marr):\n",
    "    dict_merge = lambda a,b: a.update(b) or a\n",
    "    return reduce((lambda x, y: dict_merge(x, y)), marr)"
   ]
  },
  {
   "cell_type": "code",
   "execution_count": 10,
   "metadata": {
    "collapsed": true
   },
   "outputs": [],
   "source": [
    "files = list_all_files(params['input_dir'])\n",
    "languages = params['languages']"
   ]
  },
  {
   "cell_type": "code",
   "execution_count": 11,
   "metadata": {},
   "outputs": [],
   "source": [
    "g = split_files_by_keyword(files, languages)"
   ]
  },
  {
   "cell_type": "code",
   "execution_count": null,
   "metadata": {},
   "outputs": [],
   "source": [
    "g"
   ]
  },
  {
   "cell_type": "code",
   "execution_count": 12,
   "metadata": {},
   "outputs": [
    {
     "data": {
      "text/plain": [
       "{'2017_07': ['../temp/chinese/leader/2017_07_chinese__leader.csv',\n",
       "  '../temp/chinese/others/leader/2017_07_others_leader.csv'],\n",
       " '2017_08': ['../temp/chinese/leader/2017_08_chinese__leader.csv',\n",
       "  '../temp/chinese/others/leader/2017_08_others_leader.csv'],\n",
       " '2017_09': ['../temp/chinese/leader/2017_09_chinese__leader.csv',\n",
       "  '../temp/chinese/others/leader/2017_09_others_leader.csv'],\n",
       " '2017_10': ['../temp/chinese/leader/2017_10_chinese__leader.csv',\n",
       "  '../temp/chinese/others/leader/2017_10_others_leader.csv'],\n",
       " '2017_11': ['../temp/chinese/leader/2017_11_chinese__leader.csv',\n",
       "  '../temp/chinese/others/leader/2017_11_others_leader.csv'],\n",
       " '2017_12': ['../temp/chinese/leader/2017_12_chinese__leader.csv',\n",
       "  '../temp/chinese/others/leader/2017_12_others_leader.csv']}"
      ]
     },
     "execution_count": 12,
     "metadata": {},
     "output_type": "execute_result"
    }
   ],
   "source": [
    "d = split_files_by_keyword(g['chinese'], ['leader'])\n",
    "d = filter_files_by_time_range(d['leader'])\n",
    "d"
   ]
  },
  {
   "cell_type": "code",
   "execution_count": 118,
   "metadata": {},
   "outputs": [
    {
     "data": {
      "text/plain": [
       "6"
      ]
     },
     "execution_count": 118,
     "metadata": {},
     "output_type": "execute_result"
    }
   ],
   "source": [
    "tables = [aggregate_tables(d[k], positive=True, negative=True) for k in d]\n",
    "len(tables)"
   ]
  },
  {
   "cell_type": "code",
   "execution_count": 119,
   "metadata": {},
   "outputs": [],
   "source": [
    "for _t in tables:\n",
    "    for k in _t:\n",
    "        for types in params['graph_types']:\n",
    "            _t[k][types] = summarize_values_to_week(_t[k][types])\n"
   ]
  },
  {
   "cell_type": "code",
   "execution_count": 122,
   "metadata": {},
   "outputs": [
    {
     "name": "stdout",
     "output_type": "stream",
     "text": [
      "14 [{'罗斯玛·曼梳': {'overall': [21, 18, 4, 10, 8], 'positive': [19, 14, 4, 10, 8], 'negative': [2, 4, 0, 0, 0]}, '纳吉·阿都拉萨': {'overall': [237, 247, 262, 226, 70], 'positive': [212, 223, 237, 205, 55], 'negative': [25, 24, 25, 21, 15]}, '林冠英': {'overall': [125, 79, 85, 50, 16], 'positive': [69, 61, 67, 47, 14], 'negative': [56, 18, 18, 3, 2]}, '卡巴星': {'overall': [8, 16, 2, 2, 2], 'positive': [6, 14, 0, 2, 2], 'negative': [2, 2, 2, 0, 0]}, '许子根': {'overall': [18, 12, 0, 0, 2], 'positive': [0, 4, 0, 0, 2], 'negative': [18, 8, 0, 0, 0]}, '潘儉偉': {'overall': [2, 0, 0, 0, 0], 'positive': [2, 0, 0, 0, 0], 'negative': [0, 0, 0, 0, 0]}, '拉菲兹·南利': {'overall': [0, 0, 0, 0, 1], 'positive': [0, 0, 0, 0, 1], 'negative': [0, 0, 0, 0, 0]}, '曹观友': {'overall': [5, 0, 1, 2, 0], 'positive': [4, 0, 1, 2, 0], 'negative': [1, 0, 0, 0, 0]}, '廖中莱': {'overall': [12, 10, 2, 4, 3], 'positive': [10, 4, 2, 2, 2], 'negative': [2, 6, 0, 2, 1]}, '安华·依布拉欣': {'overall': [59, 47, 62, 26, 13], 'positive': [44, 29, 50, 20, 10], 'negative': [15, 18, 12, 6, 3]}, '马哈迪·莫哈末': {'overall': [273, 196, 265, 228, 77], 'positive': [228, 157, 213, 181, 60], 'negative': [45, 39, 52, 47, 17]}, '哈迪阿旺': {'overall': [0, 0, 0, 0, 3], 'positive': [0, 0, 0, 0, 2], 'negative': [0, 0, 0, 0, 1]}, '郑雨周': {'overall': [0, 0, 0, 0, 0], 'positive': [0, 0, 0, 0, 0], 'negative': [0, 0, 0, 0, 0]}, '魏家祥': {'overall': [2, 5, 2, 0, 0], 'positive': [2, 2, 2, 0, 0], 'negative': [0, 3, 0, 0, 0]}}, {'罗斯玛·曼梳': {'overall': [27, 18, 8, 22, 4], 'positive': [25, 18, 8, 22, 2], 'negative': [2, 0, 0, 0, 2]}, '纳吉·阿都拉萨': {'overall': [161, 93, 142, 211, 54], 'positive': [144, 73, 117, 172, 50], 'negative': [17, 20, 25, 39, 4]}, '林冠英': {'overall': [102, 41, 43, 71, 21], 'positive': [77, 35, 30, 43, 13], 'negative': [25, 6, 13, 28, 8]}, '卡巴星': {'overall': [8, 12, 0, 4, 2], 'positive': [6, 12, 0, 2, 2], 'negative': [2, 0, 0, 2, 0]}, '许子根': {'overall': [3, 3, 1, 0, 0], 'positive': [0, 1, 0, 0, 0], 'negative': [3, 2, 1, 0, 0]}, '潘儉偉': {'overall': [0, 0, 0, 2, 0], 'positive': [0, 0, 0, 2, 0], 'negative': [0, 0, 0, 0, 0]}, '拉菲兹·南利': {'overall': [0, 0, 8, 10, 0], 'positive': [0, 0, 6, 2, 0], 'negative': [0, 0, 2, 8, 0]}, '曹观友': {'overall': [0, 6, 0, 2, 0], 'positive': [0, 6, 0, 0, 0], 'negative': [0, 0, 0, 2, 0]}, '廖中莱': {'overall': [6, 16, 8, 8, 4], 'positive': [2, 9, 4, 2, 4], 'negative': [4, 7, 4, 6, 0]}, '安华·依布拉欣': {'overall': [28, 12, 9, 30, 4], 'positive': [24, 9, 5, 24, 4], 'negative': [4, 3, 4, 6, 0]}, '马哈迪·莫哈末': {'overall': [166, 81, 128, 140, 55], 'positive': [131, 59, 102, 109, 38], 'negative': [35, 22, 26, 31, 17]}, '哈迪阿旺': {'overall': [4, 2, 4, 8, 2], 'positive': [2, 2, 2, 6, 2], 'negative': [2, 0, 2, 2, 0]}, '郑雨周': {'overall': [0, 0, 0, 2, 0], 'positive': [0, 0, 0, 2, 0], 'negative': [0, 0, 0, 0, 0]}, '魏家祥': {'overall': [0, 2, 2, 2, 0], 'positive': [0, 2, 0, 2, 0], 'negative': [0, 0, 2, 0, 0]}}, {'罗斯玛·曼梳': {'overall': [18, 20, 12, 15, 0], 'positive': [18, 20, 10, 15, 0], 'negative': [0, 0, 2, 0, 0]}, '纳吉·阿都拉萨': {'overall': [206, 217, 244, 153, 30], 'positive': [183, 190, 210, 133, 28], 'negative': [23, 27, 34, 20, 2]}, '林冠英': {'overall': [52, 159, 96, 98, 18], 'positive': [43, 137, 68, 74, 16], 'negative': [9, 22, 28, 24, 2]}, '卡巴星': {'overall': [12, 2, 0, 6, 0], 'positive': [6, 0, 0, 6, 0], 'negative': [6, 2, 0, 0, 0]}, '许子根': {'overall': [8, 23, 2, 10, 0], 'positive': [0, 16, 0, 10, 0], 'negative': [8, 7, 2, 0, 0]}, '潘儉偉': {'overall': [0, 0, 0, 0, 0], 'positive': [0, 0, 0, 0, 0], 'negative': [0, 0, 0, 0, 0]}, '拉菲兹·南利': {'overall': [12, 2, 0, 0, 0], 'positive': [8, 0, 0, 0, 0], 'negative': [4, 2, 0, 0, 0]}, '曹观友': {'overall': [0, 0, 2, 2, 0], 'positive': [0, 0, 0, 2, 0], 'negative': [0, 0, 2, 0, 0]}, '廖中莱': {'overall': [10, 13, 14, 8, 2], 'positive': [4, 7, 12, 4, 2], 'negative': [6, 6, 2, 4, 0]}, '安华·依布拉欣': {'overall': [39, 9, 9, 22, 2], 'positive': [28, 4, 8, 14, 2], 'negative': [11, 5, 1, 8, 0]}, '马哈迪·莫哈末': {'overall': [143, 116, 71, 115, 18], 'positive': [113, 97, 56, 97, 16], 'negative': [30, 19, 15, 18, 2]}, '哈迪阿旺': {'overall': [2, 2, 0, 0, 0], 'positive': [2, 2, 0, 0, 0], 'negative': [0, 0, 0, 0, 0]}, '郑雨周': {'overall': [0, 6, 0, 0, 0], 'positive': [0, 6, 0, 0, 0], 'negative': [0, 0, 0, 0, 0]}, '魏家祥': {'overall': [2, 0, 6, 2, 0], 'positive': [2, 0, 4, 0, 0], 'negative': [0, 0, 2, 2, 0]}}, {'罗斯玛·曼梳': {'overall': [6, 8, 4, 14, 2], 'positive': [6, 8, 4, 14, 2], 'negative': [0, 0, 0, 0, 0]}, '纳吉·阿都拉萨': {'overall': [157, 137, 106, 225, 33], 'positive': [134, 113, 93, 189, 24], 'negative': [23, 24, 13, 36, 9]}, '林冠英': {'overall': [77, 51, 69, 86, 17], 'positive': [51, 39, 46, 66, 17], 'negative': [26, 12, 23, 20, 0]}, '卡巴星': {'overall': [0, 6, 0, 0, 0], 'positive': [0, 4, 0, 0, 0], 'negative': [0, 2, 0, 0, 0]}, '许子根': {'overall': [2, 0, 0, 2, 0], 'positive': [2, 0, 0, 2, 0], 'negative': [0, 0, 0, 0, 0]}, '潘儉偉': {'overall': [2, 2, 0, 0, 0], 'positive': [0, 0, 0, 0, 0], 'negative': [2, 2, 0, 0, 0]}, '拉菲兹·南利': {'overall': [0, 0, 2, 0, 0], 'positive': [0, 0, 0, 0, 0], 'negative': [0, 0, 2, 0, 0]}, '曹观友': {'overall': [0, 0, 0, 2, 0], 'positive': [0, 0, 0, 0, 0], 'negative': [0, 0, 0, 2, 0]}, '廖中莱': {'overall': [4, 10, 18, 8, 4], 'positive': [2, 6, 14, 6, 2], 'negative': [2, 4, 4, 2, 2]}, '安华·依布拉欣': {'overall': [22, 13, 20, 30, 6], 'positive': [16, 9, 18, 23, 4], 'negative': [6, 4, 2, 7, 2]}, '马哈迪·莫哈末': {'overall': [66, 106, 77, 132, 17], 'positive': [58, 93, 61, 112, 14], 'negative': [8, 13, 16, 20, 3]}, '哈迪阿旺': {'overall': [6, 10, 0, 4, 0], 'positive': [6, 4, 0, 4, 0], 'negative': [0, 6, 0, 0, 0]}, '郑雨周': {'overall': [6, 0, 1, 7, 0], 'positive': [6, 0, 0, 5, 0], 'negative': [0, 0, 1, 2, 0]}, '魏家祥': {'overall': [7, 0, 0, 2, 0], 'positive': [4, 0, 0, 0, 0], 'negative': [3, 0, 0, 2, 0]}}, {'罗斯玛·曼梳': {'overall': [10, 16, 6, 18, 2], 'positive': [6, 14, 6, 18, 2], 'negative': [4, 2, 0, 0, 0]}, '纳吉·阿都拉萨': {'overall': [143, 188, 133, 123, 37], 'positive': [105, 144, 115, 112, 32], 'negative': [38, 44, 18, 11, 5]}, '林冠英': {'overall': [186, 239, 93, 65, 13], 'positive': [147, 184, 62, 44, 13], 'negative': [39, 55, 31, 21, 0]}, '卡巴星': {'overall': [4, 8, 0, 0, 4], 'positive': [4, 8, 0, 0, 4], 'negative': [0, 0, 0, 0, 0]}, '许子根': {'overall': [4, 6, 4, 4, 0], 'positive': [4, 6, 2, 4, 0], 'negative': [0, 0, 2, 0, 0]}, '潘儉偉': {'overall': [0, 2, 0, 0, 0], 'positive': [0, 2, 0, 0, 0], 'negative': [0, 0, 0, 0, 0]}, '拉菲兹·南利': {'overall': [0, 0, 4, 2, 2], 'positive': [0, 0, 2, 2, 2], 'negative': [0, 0, 2, 0, 0]}, '曹观友': {'overall': [8, 4, 0, 0, 0], 'positive': [4, 4, 0, 0, 0], 'negative': [4, 0, 0, 0, 0]}, '廖中莱': {'overall': [12, 17, 10, 10, 8], 'positive': [10, 16, 8, 7, 8], 'negative': [2, 1, 2, 3, 0]}, '安华·依布拉欣': {'overall': [16, 32, 32, 46, 14], 'positive': [14, 16, 22, 36, 12], 'negative': [2, 16, 10, 10, 2]}, '马哈迪·莫哈末': {'overall': [57, 129, 65, 114, 30], 'positive': [46, 93, 56, 85, 26], 'negative': [11, 36, 9, 29, 4]}, '哈迪阿旺': {'overall': [0, 0, 1, 8, 0], 'positive': [0, 0, 0, 6, 0], 'negative': [0, 0, 1, 2, 0]}, '郑雨周': {'overall': [4, 4, 6, 2, 0], 'positive': [4, 4, 5, 0, 0], 'negative': [0, 0, 1, 2, 0]}, '魏家祥': {'overall': [6, 14, 2, 4, 2], 'positive': [5, 14, 0, 3, 2], 'negative': [1, 0, 2, 1, 0]}}, {'罗斯玛·曼梳': {'overall': [16, 8, 17, 6, 0], 'positive': [12, 6, 17, 6, 0], 'negative': [4, 2, 0, 0, 0]}, '纳吉·阿都拉萨': {'overall': [250, 139, 173, 123, 48], 'positive': [219, 110, 152, 107, 44], 'negative': [31, 29, 21, 16, 4]}, '林冠英': {'overall': [66, 108, 96, 156, 24], 'positive': [56, 83, 86, 137, 21], 'negative': [10, 25, 10, 19, 3]}, '卡巴星': {'overall': [6, 0, 0, 0, 2], 'positive': [4, 0, 0, 0, 2], 'negative': [2, 0, 0, 0, 0]}, '许子根': {'overall': [0, 6, 2, 7, 4], 'positive': [0, 6, 0, 6, 4], 'negative': [0, 0, 2, 1, 0]}, '潘儉偉': {'overall': [0, 2, 0, 0, 0], 'positive': [0, 2, 0, 0, 0], 'negative': [0, 0, 0, 0, 0]}, '拉菲兹·南利': {'overall': [3, 0, 6, 0, 2], 'positive': [3, 0, 4, 0, 2], 'negative': [0, 0, 2, 0, 0]}, '曹观友': {'overall': [2, 2, 0, 22, 6], 'positive': [0, 2, 0, 18, 4], 'negative': [2, 0, 0, 4, 2]}, '廖中莱': {'overall': [4, 12, 10, 16, 6], 'positive': [0, 8, 8, 14, 6], 'negative': [4, 4, 2, 2, 0]}, '安华·依布拉欣': {'overall': [45, 30, 50, 16, 8], 'positive': [38, 22, 44, 12, 4], 'negative': [7, 8, 6, 4, 4]}, '马哈迪·莫哈末': {'overall': [216, 153, 172, 139, 61], 'positive': [192, 99, 148, 107, 44], 'negative': [24, 54, 24, 32, 17]}, '哈迪阿旺': {'overall': [2, 0, 6, 14, 2], 'positive': [2, 0, 4, 8, 2], 'negative': [0, 0, 2, 6, 0]}, '郑雨周': {'overall': [2, 2, 0, 2, 2], 'positive': [0, 0, 0, 0, 2], 'negative': [2, 2, 0, 2, 0]}, '魏家祥': {'overall': [4, 4, 0, 10, 4], 'positive': [2, 2, 0, 8, 2], 'negative': [2, 2, 0, 2, 2]}}]\n"
     ]
    }
   ],
   "source": [
    "print(len(list(tables[0].keys())), tables)"
   ]
  },
  {
   "cell_type": "code",
   "execution_count": 164,
   "metadata": {},
   "outputs": [
    {
     "name": "stdout",
     "output_type": "stream",
     "text": [
      "{'罗斯玛·曼梳': {'overall': [21, 18, 4, 10, 8, 27, 18, 8, 22, 4, 18, 20, 12, 15, 0, 6, 8, 4, 14, 2, 10, 16, 6, 18, 2, 16, 8, 17, 6, 0], 'positive': [19, 14, 4, 10, 8, 25, 18, 8, 22, 2, 18, 20, 10, 15, 0, 6, 8, 4, 14, 2, 6, 14, 6, 18, 2, 12, 6, 17, 6, 0], 'negative': [2, 4, 0, 0, 0, 2, 0, 0, 0, 2, 0, 0, 2, 0, 0, 0, 0, 0, 0, 0, 4, 2, 0, 0, 0, 4, 2, 0, 0, 0]}, '纳吉·阿都拉萨': {'overall': [237, 247, 262, 226, 70, 161, 93, 142, 211, 54, 206, 217, 244, 153, 30, 157, 137, 106, 225, 33, 143, 188, 133, 123, 37, 250, 139, 173, 123, 48], 'positive': [212, 223, 237, 205, 55, 144, 73, 117, 172, 50, 183, 190, 210, 133, 28, 134, 113, 93, 189, 24, 105, 144, 115, 112, 32, 219, 110, 152, 107, 44], 'negative': [25, 24, 25, 21, 15, 17, 20, 25, 39, 4, 23, 27, 34, 20, 2, 23, 24, 13, 36, 9, 38, 44, 18, 11, 5, 31, 29, 21, 16, 4]}, '林冠英': {'overall': [125, 79, 85, 50, 16, 102, 41, 43, 71, 21, 52, 159, 96, 98, 18, 77, 51, 69, 86, 17, 186, 239, 93, 65, 13, 66, 108, 96, 156, 24], 'positive': [69, 61, 67, 47, 14, 77, 35, 30, 43, 13, 43, 137, 68, 74, 16, 51, 39, 46, 66, 17, 147, 184, 62, 44, 13, 56, 83, 86, 137, 21], 'negative': [56, 18, 18, 3, 2, 25, 6, 13, 28, 8, 9, 22, 28, 24, 2, 26, 12, 23, 20, 0, 39, 55, 31, 21, 0, 10, 25, 10, 19, 3]}, '卡巴星': {'overall': [8, 16, 2, 2, 2, 8, 12, 0, 4, 2, 12, 2, 0, 6, 0, 0, 6, 0, 0, 0, 4, 8, 0, 0, 4, 6, 0, 0, 0, 2], 'positive': [6, 14, 0, 2, 2, 6, 12, 0, 2, 2, 6, 0, 0, 6, 0, 0, 4, 0, 0, 0, 4, 8, 0, 0, 4, 4, 0, 0, 0, 2], 'negative': [2, 2, 2, 0, 0, 2, 0, 0, 2, 0, 6, 2, 0, 0, 0, 0, 2, 0, 0, 0, 0, 0, 0, 0, 0, 2, 0, 0, 0, 0]}, '许子根': {'overall': [18, 12, 0, 0, 2, 3, 3, 1, 0, 0, 8, 23, 2, 10, 0, 2, 0, 0, 2, 0, 4, 6, 4, 4, 0, 0, 6, 2, 7, 4], 'positive': [0, 4, 0, 0, 2, 0, 1, 0, 0, 0, 0, 16, 0, 10, 0, 2, 0, 0, 2, 0, 4, 6, 2, 4, 0, 0, 6, 0, 6, 4], 'negative': [18, 8, 0, 0, 0, 3, 2, 1, 0, 0, 8, 7, 2, 0, 0, 0, 0, 0, 0, 0, 0, 0, 2, 0, 0, 0, 0, 2, 1, 0]}, '潘儉偉': {'overall': [2, 0, 0, 0, 0, 0, 0, 0, 2, 0, 0, 0, 0, 0, 0, 2, 2, 0, 0, 0, 0, 2, 0, 0, 0, 0, 2, 0, 0, 0], 'positive': [2, 0, 0, 0, 0, 0, 0, 0, 2, 0, 0, 0, 0, 0, 0, 0, 0, 0, 0, 0, 0, 2, 0, 0, 0, 0, 2, 0, 0, 0], 'negative': [0, 0, 0, 0, 0, 0, 0, 0, 0, 0, 0, 0, 0, 0, 0, 2, 2, 0, 0, 0, 0, 0, 0, 0, 0, 0, 0, 0, 0, 0]}, '拉菲兹·南利': {'overall': [0, 0, 0, 0, 1, 0, 0, 8, 10, 0, 12, 2, 0, 0, 0, 0, 0, 2, 0, 0, 0, 0, 4, 2, 2, 3, 0, 6, 0, 2], 'positive': [0, 0, 0, 0, 1, 0, 0, 6, 2, 0, 8, 0, 0, 0, 0, 0, 0, 0, 0, 0, 0, 0, 2, 2, 2, 3, 0, 4, 0, 2], 'negative': [0, 0, 0, 0, 0, 0, 0, 2, 8, 0, 4, 2, 0, 0, 0, 0, 0, 2, 0, 0, 0, 0, 2, 0, 0, 0, 0, 2, 0, 0]}, '曹观友': {'overall': [5, 0, 1, 2, 0, 0, 6, 0, 2, 0, 0, 0, 2, 2, 0, 0, 0, 0, 2, 0, 8, 4, 0, 0, 0, 2, 2, 0, 22, 6], 'positive': [4, 0, 1, 2, 0, 0, 6, 0, 0, 0, 0, 0, 0, 2, 0, 0, 0, 0, 0, 0, 4, 4, 0, 0, 0, 0, 2, 0, 18, 4], 'negative': [1, 0, 0, 0, 0, 0, 0, 0, 2, 0, 0, 0, 2, 0, 0, 0, 0, 0, 2, 0, 4, 0, 0, 0, 0, 2, 0, 0, 4, 2]}, '廖中莱': {'overall': [12, 10, 2, 4, 3, 6, 16, 8, 8, 4, 10, 13, 14, 8, 2, 4, 10, 18, 8, 4, 12, 17, 10, 10, 8, 4, 12, 10, 16, 6], 'positive': [10, 4, 2, 2, 2, 2, 9, 4, 2, 4, 4, 7, 12, 4, 2, 2, 6, 14, 6, 2, 10, 16, 8, 7, 8, 0, 8, 8, 14, 6], 'negative': [2, 6, 0, 2, 1, 4, 7, 4, 6, 0, 6, 6, 2, 4, 0, 2, 4, 4, 2, 2, 2, 1, 2, 3, 0, 4, 4, 2, 2, 0]}, '安华·依布拉欣': {'overall': [59, 47, 62, 26, 13, 28, 12, 9, 30, 4, 39, 9, 9, 22, 2, 22, 13, 20, 30, 6, 16, 32, 32, 46, 14, 45, 30, 50, 16, 8], 'positive': [44, 29, 50, 20, 10, 24, 9, 5, 24, 4, 28, 4, 8, 14, 2, 16, 9, 18, 23, 4, 14, 16, 22, 36, 12, 38, 22, 44, 12, 4], 'negative': [15, 18, 12, 6, 3, 4, 3, 4, 6, 0, 11, 5, 1, 8, 0, 6, 4, 2, 7, 2, 2, 16, 10, 10, 2, 7, 8, 6, 4, 4]}, '马哈迪·莫哈末': {'overall': [273, 196, 265, 228, 77, 166, 81, 128, 140, 55, 143, 116, 71, 115, 18, 66, 106, 77, 132, 17, 57, 129, 65, 114, 30, 216, 153, 172, 139, 61], 'positive': [228, 157, 213, 181, 60, 131, 59, 102, 109, 38, 113, 97, 56, 97, 16, 58, 93, 61, 112, 14, 46, 93, 56, 85, 26, 192, 99, 148, 107, 44], 'negative': [45, 39, 52, 47, 17, 35, 22, 26, 31, 17, 30, 19, 15, 18, 2, 8, 13, 16, 20, 3, 11, 36, 9, 29, 4, 24, 54, 24, 32, 17]}, '哈迪阿旺': {'overall': [0, 0, 0, 0, 3, 4, 2, 4, 8, 2, 2, 2, 0, 0, 0, 6, 10, 0, 4, 0, 0, 0, 1, 8, 0, 2, 0, 6, 14, 2], 'positive': [0, 0, 0, 0, 2, 2, 2, 2, 6, 2, 2, 2, 0, 0, 0, 6, 4, 0, 4, 0, 0, 0, 0, 6, 0, 2, 0, 4, 8, 2], 'negative': [0, 0, 0, 0, 1, 2, 0, 2, 2, 0, 0, 0, 0, 0, 0, 0, 6, 0, 0, 0, 0, 0, 1, 2, 0, 0, 0, 2, 6, 0]}, '郑雨周': {'overall': [0, 0, 0, 0, 0, 0, 0, 0, 2, 0, 0, 6, 0, 0, 0, 6, 0, 1, 7, 0, 4, 4, 6, 2, 0, 2, 2, 0, 2, 2], 'positive': [0, 0, 0, 0, 0, 0, 0, 0, 2, 0, 0, 6, 0, 0, 0, 6, 0, 0, 5, 0, 4, 4, 5, 0, 0, 0, 0, 0, 0, 2], 'negative': [0, 0, 0, 0, 0, 0, 0, 0, 0, 0, 0, 0, 0, 0, 0, 0, 0, 1, 2, 0, 0, 0, 1, 2, 0, 2, 2, 0, 2, 0]}, '魏家祥': {'overall': [2, 5, 2, 0, 0, 0, 2, 2, 2, 0, 2, 0, 6, 2, 0, 7, 0, 0, 2, 0, 6, 14, 2, 4, 2, 4, 4, 0, 10, 4], 'positive': [2, 2, 2, 0, 0, 0, 2, 0, 2, 0, 2, 0, 4, 0, 0, 4, 0, 0, 0, 0, 5, 14, 0, 3, 2, 2, 2, 0, 8, 2], 'negative': [0, 3, 0, 0, 0, 0, 0, 2, 0, 0, 0, 0, 2, 2, 0, 3, 0, 0, 2, 0, 1, 0, 2, 1, 0, 2, 2, 0, 2, 2]}}\n"
     ]
    }
   ],
   "source": [
    "x = flatten_map(tables)\n",
    "\n",
    "x_last = flatten_inner_array(x)\n",
    "xl2 = x_last\n",
    "xl3 = flatten_array_to_map(xl2)\n",
    "\n",
    "for n in xl3:\n",
    "    xl3[n] = flatten_array_to_map(xl3[n])\n",
    "print(xl3)"
   ]
  },
  {
   "cell_type": "code",
   "execution_count": 162,
   "metadata": {
    "scrolled": false
   },
   "outputs": [
    {
     "name": "stdout",
     "output_type": "stream",
     "text": [
      "{'罗斯玛·曼梳': {'overall': [21, 18, 4, 10, 8, 27, 18, 8, 22, 4, 18, 20, 12, 15, 0, 6, 8, 4, 14, 2, 10, 16, 6, 18, 2, 16, 8, 17, 6, 0], 'positive': [19, 14, 4, 10, 8, 25, 18, 8, 22, 2, 18, 20, 10, 15, 0, 6, 8, 4, 14, 2, 6, 14, 6, 18, 2, 12, 6, 17, 6, 0], 'negative': [2, 4, 0, 0, 0, 2, 0, 0, 0, 2, 0, 0, 2, 0, 0, 0, 0, 0, 0, 0, 4, 2, 0, 0, 0, 4, 2, 0, 0, 0]}, '纳吉·阿都拉萨': {'overall': [237, 247, 262, 226, 70, 161, 93, 142, 211, 54, 206, 217, 244, 153, 30, 157, 137, 106, 225, 33, 143, 188, 133, 123, 37, 250, 139, 173, 123, 48], 'positive': [212, 223, 237, 205, 55, 144, 73, 117, 172, 50, 183, 190, 210, 133, 28, 134, 113, 93, 189, 24, 105, 144, 115, 112, 32, 219, 110, 152, 107, 44], 'negative': [25, 24, 25, 21, 15, 17, 20, 25, 39, 4, 23, 27, 34, 20, 2, 23, 24, 13, 36, 9, 38, 44, 18, 11, 5, 31, 29, 21, 16, 4]}, '林冠英': {'overall': [125, 79, 85, 50, 16, 102, 41, 43, 71, 21, 52, 159, 96, 98, 18, 77, 51, 69, 86, 17, 186, 239, 93, 65, 13, 66, 108, 96, 156, 24], 'positive': [69, 61, 67, 47, 14, 77, 35, 30, 43, 13, 43, 137, 68, 74, 16, 51, 39, 46, 66, 17, 147, 184, 62, 44, 13, 56, 83, 86, 137, 21], 'negative': [56, 18, 18, 3, 2, 25, 6, 13, 28, 8, 9, 22, 28, 24, 2, 26, 12, 23, 20, 0, 39, 55, 31, 21, 0, 10, 25, 10, 19, 3]}, '卡巴星': {'overall': [8, 16, 2, 2, 2, 8, 12, 0, 4, 2, 12, 2, 0, 6, 0, 0, 6, 0, 0, 0, 4, 8, 0, 0, 4, 6, 0, 0, 0, 2], 'positive': [6, 14, 0, 2, 2, 6, 12, 0, 2, 2, 6, 0, 0, 6, 0, 0, 4, 0, 0, 0, 4, 8, 0, 0, 4, 4, 0, 0, 0, 2], 'negative': [2, 2, 2, 0, 0, 2, 0, 0, 2, 0, 6, 2, 0, 0, 0, 0, 2, 0, 0, 0, 0, 0, 0, 0, 0, 2, 0, 0, 0, 0]}, '许子根': {'overall': [18, 12, 0, 0, 2, 3, 3, 1, 0, 0, 8, 23, 2, 10, 0, 2, 0, 0, 2, 0, 4, 6, 4, 4, 0, 0, 6, 2, 7, 4], 'positive': [0, 4, 0, 0, 2, 0, 1, 0, 0, 0, 0, 16, 0, 10, 0, 2, 0, 0, 2, 0, 4, 6, 2, 4, 0, 0, 6, 0, 6, 4], 'negative': [18, 8, 0, 0, 0, 3, 2, 1, 0, 0, 8, 7, 2, 0, 0, 0, 0, 0, 0, 0, 0, 0, 2, 0, 0, 0, 0, 2, 1, 0]}, '潘儉偉': {'overall': [2, 0, 0, 0, 0, 0, 0, 0, 2, 0, 0, 0, 0, 0, 0, 2, 2, 0, 0, 0, 0, 2, 0, 0, 0, 0, 2, 0, 0, 0], 'positive': [2, 0, 0, 0, 0, 0, 0, 0, 2, 0, 0, 0, 0, 0, 0, 0, 0, 0, 0, 0, 0, 2, 0, 0, 0, 0, 2, 0, 0, 0], 'negative': [0, 0, 0, 0, 0, 0, 0, 0, 0, 0, 0, 0, 0, 0, 0, 2, 2, 0, 0, 0, 0, 0, 0, 0, 0, 0, 0, 0, 0, 0]}, '拉菲兹·南利': {'overall': [0, 0, 0, 0, 1, 0, 0, 8, 10, 0, 12, 2, 0, 0, 0, 0, 0, 2, 0, 0, 0, 0, 4, 2, 2, 3, 0, 6, 0, 2], 'positive': [0, 0, 0, 0, 1, 0, 0, 6, 2, 0, 8, 0, 0, 0, 0, 0, 0, 0, 0, 0, 0, 0, 2, 2, 2, 3, 0, 4, 0, 2], 'negative': [0, 0, 0, 0, 0, 0, 0, 2, 8, 0, 4, 2, 0, 0, 0, 0, 0, 2, 0, 0, 0, 0, 2, 0, 0, 0, 0, 2, 0, 0]}, '曹观友': {'overall': [5, 0, 1, 2, 0, 0, 6, 0, 2, 0, 0, 0, 2, 2, 0, 0, 0, 0, 2, 0, 8, 4, 0, 0, 0, 2, 2, 0, 22, 6], 'positive': [4, 0, 1, 2, 0, 0, 6, 0, 0, 0, 0, 0, 0, 2, 0, 0, 0, 0, 0, 0, 4, 4, 0, 0, 0, 0, 2, 0, 18, 4], 'negative': [1, 0, 0, 0, 0, 0, 0, 0, 2, 0, 0, 0, 2, 0, 0, 0, 0, 0, 2, 0, 4, 0, 0, 0, 0, 2, 0, 0, 4, 2]}, '廖中莱': {'overall': [12, 10, 2, 4, 3, 6, 16, 8, 8, 4, 10, 13, 14, 8, 2, 4, 10, 18, 8, 4, 12, 17, 10, 10, 8, 4, 12, 10, 16, 6], 'positive': [10, 4, 2, 2, 2, 2, 9, 4, 2, 4, 4, 7, 12, 4, 2, 2, 6, 14, 6, 2, 10, 16, 8, 7, 8, 0, 8, 8, 14, 6], 'negative': [2, 6, 0, 2, 1, 4, 7, 4, 6, 0, 6, 6, 2, 4, 0, 2, 4, 4, 2, 2, 2, 1, 2, 3, 0, 4, 4, 2, 2, 0]}, '安华·依布拉欣': {'overall': [59, 47, 62, 26, 13, 28, 12, 9, 30, 4, 39, 9, 9, 22, 2, 22, 13, 20, 30, 6, 16, 32, 32, 46, 14, 45, 30, 50, 16, 8], 'positive': [44, 29, 50, 20, 10, 24, 9, 5, 24, 4, 28, 4, 8, 14, 2, 16, 9, 18, 23, 4, 14, 16, 22, 36, 12, 38, 22, 44, 12, 4], 'negative': [15, 18, 12, 6, 3, 4, 3, 4, 6, 0, 11, 5, 1, 8, 0, 6, 4, 2, 7, 2, 2, 16, 10, 10, 2, 7, 8, 6, 4, 4]}, '马哈迪·莫哈末': {'overall': [273, 196, 265, 228, 77, 166, 81, 128, 140, 55, 143, 116, 71, 115, 18, 66, 106, 77, 132, 17, 57, 129, 65, 114, 30, 216, 153, 172, 139, 61], 'positive': [228, 157, 213, 181, 60, 131, 59, 102, 109, 38, 113, 97, 56, 97, 16, 58, 93, 61, 112, 14, 46, 93, 56, 85, 26, 192, 99, 148, 107, 44], 'negative': [45, 39, 52, 47, 17, 35, 22, 26, 31, 17, 30, 19, 15, 18, 2, 8, 13, 16, 20, 3, 11, 36, 9, 29, 4, 24, 54, 24, 32, 17]}, '哈迪阿旺': {'overall': [0, 0, 0, 0, 3, 4, 2, 4, 8, 2, 2, 2, 0, 0, 0, 6, 10, 0, 4, 0, 0, 0, 1, 8, 0, 2, 0, 6, 14, 2], 'positive': [0, 0, 0, 0, 2, 2, 2, 2, 6, 2, 2, 2, 0, 0, 0, 6, 4, 0, 4, 0, 0, 0, 0, 6, 0, 2, 0, 4, 8, 2], 'negative': [0, 0, 0, 0, 1, 2, 0, 2, 2, 0, 0, 0, 0, 0, 0, 0, 6, 0, 0, 0, 0, 0, 1, 2, 0, 0, 0, 2, 6, 0]}, '郑雨周': {'overall': [0, 0, 0, 0, 0, 0, 0, 0, 2, 0, 0, 6, 0, 0, 0, 6, 0, 1, 7, 0, 4, 4, 6, 2, 0, 2, 2, 0, 2, 2], 'positive': [0, 0, 0, 0, 0, 0, 0, 0, 2, 0, 0, 6, 0, 0, 0, 6, 0, 0, 5, 0, 4, 4, 5, 0, 0, 0, 0, 0, 0, 2], 'negative': [0, 0, 0, 0, 0, 0, 0, 0, 0, 0, 0, 0, 0, 0, 0, 0, 0, 1, 2, 0, 0, 0, 1, 2, 0, 2, 2, 0, 2, 0]}, '魏家祥': {'overall': [2, 5, 2, 0, 0, 0, 2, 2, 2, 0, 2, 0, 6, 2, 0, 7, 0, 0, 2, 0, 6, 14, 2, 4, 2, 4, 4, 0, 10, 4], 'positive': [2, 2, 2, 0, 0, 0, 2, 0, 2, 0, 2, 0, 4, 0, 0, 4, 0, 0, 0, 0, 5, 14, 0, 3, 2, 2, 2, 0, 8, 2], 'negative': [0, 3, 0, 0, 0, 0, 0, 2, 0, 0, 0, 0, 2, 2, 0, 3, 0, 0, 2, 0, 1, 0, 2, 1, 0, 2, 2, 0, 2, 2]}}\n"
     ]
    }
   ],
   "source": []
  }
 ],
 "metadata": {
  "kernelspec": {
   "display_name": "Python 3",
   "language": "python",
   "name": "python3"
  },
  "language_info": {
   "codemirror_mode": {
    "name": "ipython",
    "version": 3
   },
   "file_extension": ".py",
   "mimetype": "text/x-python",
   "name": "python",
   "nbconvert_exporter": "python",
   "pygments_lexer": "ipython3",
   "version": "3.6.4"
  }
 },
 "nbformat": 4,
 "nbformat_minor": 2
}
